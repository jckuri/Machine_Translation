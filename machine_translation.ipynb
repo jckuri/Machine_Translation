{
 "cells": [
  {
   "cell_type": "markdown",
   "metadata": {
    "collapsed": true
   },
   "source": [
    "# Artificial Intelligence Nanodegree\n",
    "## Machine Translation Project\n",
    "In this notebook, sections that end with **'(IMPLEMENTATION)'** in the header indicate that the following blocks of code will require additional functionality which you must provide. Please be sure to read the instructions carefully!\n",
    "\n",
    "## Introduction\n",
    "In this notebook, you will build a deep neural network that functions as part of an end-to-end machine translation pipeline. Your completed pipeline will accept English text as input and return the French translation.\n",
    "\n",
    "- **Preprocess** - You'll convert text to sequence of integers.\n",
    "- **Models** Create models which accepts a sequence of integers as input and returns a probability distribution over possible translations. After learning about the basic types of neural networks that are often used for machine translation, you will engage in your own investigations, to design your own model!\n",
    "- **Prediction** Run the model on English text."
   ]
  },
  {
   "cell_type": "code",
   "execution_count": 1,
   "metadata": {},
   "outputs": [],
   "source": [
    "%load_ext autoreload\n",
    "%aimport helper, tests\n",
    "%autoreload 1"
   ]
  },
  {
   "cell_type": "code",
   "execution_count": 2,
   "metadata": {},
   "outputs": [
    {
     "name": "stderr",
     "output_type": "stream",
     "text": [
      "Using TensorFlow backend.\n"
     ]
    }
   ],
   "source": [
    "import collections\n",
    "\n",
    "import helper\n",
    "import numpy as np\n",
    "import project_tests as tests\n",
    "\n",
    "from keras.preprocessing.text import Tokenizer\n",
    "from keras.preprocessing.sequence import pad_sequences\n",
    "from keras.models import Model\n",
    "from keras.layers import GRU, Input, Dense, TimeDistributed, Activation, RepeatVector, Bidirectional\n",
    "from keras.layers.embeddings import Embedding\n",
    "from keras.optimizers import Adam\n",
    "from keras.losses import sparse_categorical_crossentropy"
   ]
  },
  {
   "cell_type": "markdown",
   "metadata": {},
   "source": [
    "### Verify access to the GPU\n",
    "The following test applies only if you expect to be using a GPU, e.g., while running in a Udacity Workspace or using an AWS instance with GPU support. Run the next cell, and verify that the device_type is \"GPU\".\n",
    "- If the device is not GPU & you are running from a Udacity Workspace, then save your workspace with the icon at the top, then click \"enable\" at the bottom of the workspace.\n",
    "- If the device is not GPU & you are running from an AWS instance, then refer to the cloud computing instructions in the classroom to verify your setup steps."
   ]
  },
  {
   "cell_type": "code",
   "execution_count": 3,
   "metadata": {},
   "outputs": [
    {
     "name": "stdout",
     "output_type": "stream",
     "text": [
      "[name: \"/cpu:0\"\n",
      "device_type: \"CPU\"\n",
      "memory_limit: 268435456\n",
      "locality {\n",
      "}\n",
      "incarnation: 8184991045411071434\n",
      ", name: \"/gpu:0\"\n",
      "device_type: \"GPU\"\n",
      "memory_limit: 357433344\n",
      "locality {\n",
      "  bus_id: 1\n",
      "}\n",
      "incarnation: 5228199010963221491\n",
      "physical_device_desc: \"device: 0, name: Tesla K80, pci bus id: 0000:00:04.0\"\n",
      "]\n"
     ]
    }
   ],
   "source": [
    "from tensorflow.python.client import device_lib\n",
    "print(device_lib.list_local_devices())"
   ]
  },
  {
   "cell_type": "markdown",
   "metadata": {},
   "source": [
    "## Dataset\n",
    "We begin by investigating the dataset that will be used to train and evaluate your pipeline.  The most common datasets used for machine translation are from [WMT](http://www.statmt.org/).  However, that will take a long time to train a neural network on.  We'll be using a dataset we created for this project that contains a small vocabulary.  You'll be able to train your model in a reasonable time with this dataset.\n",
    "### Load Data\n",
    "The data is located in `data/small_vocab_en` and `data/small_vocab_fr`. The `small_vocab_en` file contains English sentences with their French translations in the `small_vocab_fr` file. Load the English and French data from these files from running the cell below."
   ]
  },
  {
   "cell_type": "code",
   "execution_count": 4,
   "metadata": {},
   "outputs": [
    {
     "name": "stdout",
     "output_type": "stream",
     "text": [
      "Dataset Loaded\n"
     ]
    }
   ],
   "source": [
    "# Load English data\n",
    "english_sentences = helper.load_data('data/small_vocab_en')\n",
    "# Load French data\n",
    "french_sentences = helper.load_data('data/small_vocab_fr')\n",
    "\n",
    "print('Dataset Loaded')"
   ]
  },
  {
   "cell_type": "markdown",
   "metadata": {},
   "source": [
    "### Files\n",
    "Each line in `small_vocab_en` contains an English sentence with the respective translation in each line of `small_vocab_fr`.  View the first two lines from each file."
   ]
  },
  {
   "cell_type": "code",
   "execution_count": 5,
   "metadata": {},
   "outputs": [
    {
     "name": "stdout",
     "output_type": "stream",
     "text": [
      "small_vocab_en Line 1:  new jersey is sometimes quiet during autumn , and it is snowy in april .\n",
      "small_vocab_fr Line 1:  new jersey est parfois calme pendant l' automne , et il est neigeux en avril .\n",
      "small_vocab_en Line 2:  the united states is usually chilly during july , and it is usually freezing in november .\n",
      "small_vocab_fr Line 2:  les états-unis est généralement froid en juillet , et il gèle habituellement en novembre .\n"
     ]
    }
   ],
   "source": [
    "for sample_i in range(2):\n",
    "    print('small_vocab_en Line {}:  {}'.format(sample_i + 1, english_sentences[sample_i]))\n",
    "    print('small_vocab_fr Line {}:  {}'.format(sample_i + 1, french_sentences[sample_i]))"
   ]
  },
  {
   "cell_type": "markdown",
   "metadata": {},
   "source": [
    "From looking at the sentences, you can see they have been preprocessed already.  The puncuations have been delimited using spaces. All the text have been converted to lowercase.  This should save you some time, but the text requires more preprocessing.\n",
    "### Vocabulary\n",
    "The complexity of the problem is determined by the complexity of the vocabulary.  A more complex vocabulary is a more complex problem.  Let's look at the complexity of the dataset we'll be working with."
   ]
  },
  {
   "cell_type": "code",
   "execution_count": 6,
   "metadata": {},
   "outputs": [
    {
     "name": "stdout",
     "output_type": "stream",
     "text": [
      "1823250 English words.\n",
      "227 unique English words.\n",
      "10 Most common words in the English dataset:\n",
      "\"is\" \",\" \".\" \"in\" \"it\" \"during\" \"the\" \"but\" \"and\" \"sometimes\"\n",
      "\n",
      "1961295 French words.\n",
      "355 unique French words.\n",
      "10 Most common words in the French dataset:\n",
      "\"est\" \".\" \",\" \"en\" \"il\" \"les\" \"mais\" \"et\" \"la\" \"parfois\"\n"
     ]
    }
   ],
   "source": [
    "english_words_counter = collections.Counter([word for sentence in english_sentences for word in sentence.split()])\n",
    "french_words_counter = collections.Counter([word for sentence in french_sentences for word in sentence.split()])\n",
    "\n",
    "print('{} English words.'.format(len([word for sentence in english_sentences for word in sentence.split()])))\n",
    "print('{} unique English words.'.format(len(english_words_counter)))\n",
    "print('10 Most common words in the English dataset:')\n",
    "print('\"' + '\" \"'.join(list(zip(*english_words_counter.most_common(10)))[0]) + '\"')\n",
    "print()\n",
    "print('{} French words.'.format(len([word for sentence in french_sentences for word in sentence.split()])))\n",
    "print('{} unique French words.'.format(len(french_words_counter)))\n",
    "print('10 Most common words in the French dataset:')\n",
    "print('\"' + '\" \"'.join(list(zip(*french_words_counter.most_common(10)))[0]) + '\"')"
   ]
  },
  {
   "cell_type": "markdown",
   "metadata": {},
   "source": [
    "For comparison, _Alice's Adventures in Wonderland_ contains 2,766 unique words of a total of 15,500 words.\n",
    "## Preprocess\n",
    "For this project, you won't use text data as input to your model. Instead, you'll convert the text into sequences of integers using the following preprocess methods:\n",
    "1. Tokenize the words into ids\n",
    "2. Add padding to make all the sequences the same length.\n",
    "\n",
    "Time to start preprocessing the data...\n",
    "### Tokenize (IMPLEMENTATION)\n",
    "For a neural network to predict on text data, it first has to be turned into data it can understand. Text data like \"dog\" is a sequence of ASCII character encodings.  Since a neural network is a series of multiplication and addition operations, the input data needs to be number(s).\n",
    "\n",
    "We can turn each character into a number or each word into a number.  These are called character and word ids, respectively.  Character ids are used for character level models that generate text predictions for each character.  A word level model uses word ids that generate text predictions for each word.  Word level models tend to learn better, since they are lower in complexity, so we'll use those.\n",
    "\n",
    "Turn each sentence into a sequence of words ids using Keras's [`Tokenizer`](https://keras.io/preprocessing/text/#tokenizer) function. Use this function to tokenize `english_sentences` and `french_sentences` in the cell below.\n",
    "\n",
    "Running the cell will run `tokenize` on sample data and show output for debugging."
   ]
  },
  {
   "cell_type": "code",
   "execution_count": 7,
   "metadata": {},
   "outputs": [
    {
     "name": "stdout",
     "output_type": "stream",
     "text": [
      "{'the': 1, 'quick': 2, 'a': 3, 'brown': 4, 'fox': 5, 'jumps': 6, 'over': 7, 'lazy': 8, 'dog': 9, 'by': 10, 'jove': 11, 'my': 12, 'study': 13, 'of': 14, 'lexicography': 15, 'won': 16, 'prize': 17, 'this': 18, 'is': 19, 'short': 20, 'sentence': 21}\n",
      "\n",
      "Sequence 1 in x\n",
      "  Input:  The quick brown fox jumps over the lazy dog .\n",
      "  Output: [1, 2, 4, 5, 6, 7, 1, 8, 9]\n",
      "Sequence 2 in x\n",
      "  Input:  By Jove , my quick study of lexicography won a prize .\n",
      "  Output: [10, 11, 12, 2, 13, 14, 15, 16, 3, 17]\n",
      "Sequence 3 in x\n",
      "  Input:  This is a short sentence .\n",
      "  Output: [18, 19, 3, 20, 21]\n"
     ]
    }
   ],
   "source": [
    "import keras\n",
    "\n",
    "def tokenize(x):\n",
    "    \"\"\"\n",
    "    Tokenize x\n",
    "    :param x: List of sentences/strings to be tokenized\n",
    "    :return: Tuple of (tokenized x data, tokenizer used to tokenize x)\n",
    "    \"\"\"\n",
    "    # TODO: Implement\n",
    "    tokenizer = Tokenizer()\n",
    "    tokenizer.fit_on_texts(x)\n",
    "    tokenized_data = tokenizer.texts_to_sequences(x)\n",
    "    return tokenized_data, tokenizer\n",
    "\n",
    "tests.test_tokenize(tokenize)\n",
    "\n",
    "# Tokenize Example output\n",
    "text_sentences = [\n",
    "    'The quick brown fox jumps over the lazy dog .',\n",
    "    'By Jove , my quick study of lexicography won a prize .',\n",
    "    'This is a short sentence .']\n",
    "text_tokenized, text_tokenizer = tokenize(text_sentences)\n",
    "print(text_tokenizer.word_index)\n",
    "print()\n",
    "for sample_i, (sent, token_sent) in enumerate(zip(text_sentences, text_tokenized)):\n",
    "    print('Sequence {} in x'.format(sample_i + 1))\n",
    "    print('  Input:  {}'.format(sent))\n",
    "    print('  Output: {}'.format(token_sent))"
   ]
  },
  {
   "cell_type": "markdown",
   "metadata": {},
   "source": [
    "### Padding (IMPLEMENTATION)\n",
    "When batching the sequence of word ids together, each sequence needs to be the same length.  Since sentences are dynamic in length, we can add padding to the end of the sequences to make them the same length.\n",
    "\n",
    "Make sure all the English sequences have the same length and all the French sequences have the same length by adding padding to the **end** of each sequence using Keras's [`pad_sequences`](https://keras.io/preprocessing/sequence/#pad_sequences) function."
   ]
  },
  {
   "cell_type": "code",
   "execution_count": 8,
   "metadata": {},
   "outputs": [
    {
     "name": "stdout",
     "output_type": "stream",
     "text": [
      "Sequence 1 in x\n",
      "  Input:  [1 2 4 5 6 7 1 8 9]\n",
      "  Output: [1 2 4 5 6 7 1 8 9 0]\n",
      "Sequence 2 in x\n",
      "  Input:  [10 11 12  2 13 14 15 16  3 17]\n",
      "  Output: [10 11 12  2 13 14 15 16  3 17]\n",
      "Sequence 3 in x\n",
      "  Input:  [18 19  3 20 21]\n",
      "  Output: [18 19  3 20 21  0  0  0  0  0]\n"
     ]
    }
   ],
   "source": [
    "def pad(x, length=None):\n",
    "    \"\"\"\n",
    "    Pad x\n",
    "    :param x: List of sequences.\n",
    "    :param length: Length to pad the sequence to.  If None, use length of longest sequence in x.\n",
    "    :return: Padded numpy array of sequences\n",
    "    \"\"\"\n",
    "    # TODO: Implement\n",
    "    return keras.preprocessing.sequence.pad_sequences(x, maxlen = length, padding = 'post', value = 0)\n",
    "\n",
    "tests.test_pad(pad)\n",
    "\n",
    "# Pad Tokenized output\n",
    "test_pad = pad(text_tokenized)\n",
    "for sample_i, (token_sent, pad_sent) in enumerate(zip(text_tokenized, test_pad)):\n",
    "    print('Sequence {} in x'.format(sample_i + 1))\n",
    "    print('  Input:  {}'.format(np.array(token_sent)))\n",
    "    print('  Output: {}'.format(pad_sent))"
   ]
  },
  {
   "cell_type": "markdown",
   "metadata": {},
   "source": [
    "### Preprocess Pipeline\n",
    "Your focus for this project is to build neural network architecture, so we won't ask you to create a preprocess pipeline.  Instead, we've provided you with the implementation of the `preprocess` function."
   ]
  },
  {
   "cell_type": "code",
   "execution_count": 9,
   "metadata": {},
   "outputs": [
    {
     "name": "stdout",
     "output_type": "stream",
     "text": [
      "Data Preprocessed\n",
      "Max English sentence length: 15\n",
      "Max French sentence length: 21\n",
      "English vocabulary size: 199\n",
      "French vocabulary size: 344\n"
     ]
    }
   ],
   "source": [
    "def preprocess(x, y):\n",
    "    \"\"\"\n",
    "    Preprocess x and y\n",
    "    :param x: Feature List of sentences\n",
    "    :param y: Label List of sentences\n",
    "    :return: Tuple of (Preprocessed x, Preprocessed y, x tokenizer, y tokenizer)\n",
    "    \"\"\"\n",
    "    preprocess_x, x_tk = tokenize(x)\n",
    "    preprocess_y, y_tk = tokenize(y)\n",
    "\n",
    "    preprocess_x = pad(preprocess_x)\n",
    "    preprocess_y = pad(preprocess_y)\n",
    "\n",
    "    # Keras's sparse_categorical_crossentropy function requires the labels to be in 3 dimensions\n",
    "    preprocess_y = preprocess_y.reshape(*preprocess_y.shape, 1)\n",
    "\n",
    "    return preprocess_x, preprocess_y, x_tk, y_tk\n",
    "\n",
    "preproc_english_sentences, preproc_french_sentences, english_tokenizer, french_tokenizer =\\\n",
    "    preprocess(english_sentences, french_sentences)\n",
    "    \n",
    "max_english_sequence_length = preproc_english_sentences.shape[1]\n",
    "max_french_sequence_length = preproc_french_sentences.shape[1]\n",
    "english_vocab_size = len(english_tokenizer.word_index)\n",
    "french_vocab_size = len(french_tokenizer.word_index)\n",
    "\n",
    "print('Data Preprocessed')\n",
    "print(\"Max English sentence length:\", max_english_sequence_length)\n",
    "print(\"Max French sentence length:\", max_french_sequence_length)\n",
    "print(\"English vocabulary size:\", english_vocab_size)\n",
    "print(\"French vocabulary size:\", french_vocab_size)"
   ]
  },
  {
   "cell_type": "markdown",
   "metadata": {},
   "source": [
    "## Models\n",
    "In this section, you will experiment with various neural network architectures.\n",
    "You will begin by training four relatively simple architectures.\n",
    "- Model 1 is a simple RNN\n",
    "- Model 2 is a RNN with Embedding\n",
    "- Model 3 is a Bidirectional RNN\n",
    "- Model 4 is an optional Encoder-Decoder RNN\n",
    "\n",
    "After experimenting with the four simple architectures, you will construct a deeper architecture that is designed to outperform all four models.\n",
    "### Ids Back to Text\n",
    "The neural network will be translating the input to words ids, which isn't the final form we want.  We want the French translation.  The function `logits_to_text` will bridge the gab between the logits from the neural network to the French translation.  You'll be using this function to better understand the output of the neural network."
   ]
  },
  {
   "cell_type": "code",
   "execution_count": 10,
   "metadata": {},
   "outputs": [
    {
     "name": "stdout",
     "output_type": "stream",
     "text": [
      "`logits_to_text` function loaded.\n"
     ]
    }
   ],
   "source": [
    "def logits_to_text(logits, tokenizer):\n",
    "    \"\"\"\n",
    "    Turn logits from a neural network into text using the tokenizer\n",
    "    :param logits: Logits from a neural network\n",
    "    :param tokenizer: Keras Tokenizer fit on the labels\n",
    "    :return: String that represents the text of the logits\n",
    "    \"\"\"\n",
    "    index_to_words = {id: word for word, id in tokenizer.word_index.items()}\n",
    "    index_to_words[0] = '<PAD>'\n",
    "\n",
    "    return ' '.join([index_to_words[prediction] for prediction in np.argmax(logits, 1)])\n",
    "\n",
    "print('`logits_to_text` function loaded.')"
   ]
  },
  {
   "cell_type": "markdown",
   "metadata": {},
   "source": [
    "### Model 1: RNN (IMPLEMENTATION)\n",
    "![RNN](images/rnn.png)\n",
    "A basic RNN model is a good baseline for sequence data.  In this model, you'll build a RNN that translates English to French."
   ]
  },
  {
   "cell_type": "code",
   "execution_count": 11,
   "metadata": {},
   "outputs": [
    {
     "name": "stdout",
     "output_type": "stream",
     "text": [
      "_________________________________________________________________\n",
      "Layer (type)                 Output Shape              Param #   \n",
      "=================================================================\n",
      "input_1 (InputLayer)         (None, 21, 1)             0         \n",
      "_________________________________________________________________\n",
      "gru_1 (GRU)                  (None, 21, 500)           753000    \n",
      "_________________________________________________________________\n",
      "time_distributed_1 (TimeDist (None, 21, 344)           172344    \n",
      "_________________________________________________________________\n",
      "activation_1 (Activation)    (None, 21, 344)           0         \n",
      "=================================================================\n",
      "Total params: 925,344\n",
      "Trainable params: 925,344\n",
      "Non-trainable params: 0\n",
      "_________________________________________________________________\n"
     ]
    }
   ],
   "source": [
    "def simple_model(input_shape, output_sequence_length, english_vocab_size, french_vocab_size):\n",
    "    \"\"\"\n",
    "    Build and train a basic RNN on x and y\n",
    "    :param input_shape: Tuple of input shape\n",
    "    :param output_sequence_length: Length of output sequence\n",
    "    :param english_vocab_size: Number of unique English words in the dataset\n",
    "    :param french_vocab_size: Number of unique French words in the dataset\n",
    "    :return: Keras model built, but not trained\n",
    "    \"\"\"\n",
    "    # TODO: Build the layers\n",
    "    \n",
    "    learning_rate = 1e-3\n",
    "    input_seq = Input(input_shape[1:])\n",
    "    hidden_state_dim = 500\n",
    "    rnn = GRU(hidden_state_dim, return_sequences=True)(input_seq)\n",
    "    logits = TimeDistributed(Dense(french_vocab_size))(rnn)\n",
    "    model = Model(input_seq, Activation('softmax')(logits))\n",
    "    \n",
    "    model.compile(loss = sparse_categorical_crossentropy, optimizer = Adam(learning_rate), metrics = ['accuracy'])\n",
    "    model.summary()\n",
    "    return model\n",
    "\n",
    "tests.test_simple_model(simple_model)"
   ]
  },
  {
   "cell_type": "code",
   "execution_count": 12,
   "metadata": {},
   "outputs": [
    {
     "name": "stdout",
     "output_type": "stream",
     "text": [
      "_________________________________________________________________\n",
      "Layer (type)                 Output Shape              Param #   \n",
      "=================================================================\n",
      "input_2 (InputLayer)         (None, 21, 1)             0         \n",
      "_________________________________________________________________\n",
      "gru_2 (GRU)                  (None, 21, 500)           753000    \n",
      "_________________________________________________________________\n",
      "time_distributed_2 (TimeDist (None, 21, 345)           172845    \n",
      "_________________________________________________________________\n",
      "activation_2 (Activation)    (None, 21, 345)           0         \n",
      "=================================================================\n",
      "Total params: 925,845\n",
      "Trainable params: 925,845\n",
      "Non-trainable params: 0\n",
      "_________________________________________________________________\n",
      "Train on 110288 samples, validate on 27573 samples\n",
      "Epoch 1/12\n",
      "110288/110288 [==============================] - 20s 179us/step - loss: 2.2651 - acc: 0.5154 - val_loss: 1.5936 - val_acc: 0.5894\n",
      "Epoch 2/12\n",
      "110288/110288 [==============================] - 19s 173us/step - loss: 1.4439 - acc: 0.6097 - val_loss: 1.3339 - val_acc: 0.6260\n",
      "Epoch 3/12\n",
      "110288/110288 [==============================] - 19s 173us/step - loss: 1.2621 - acc: 0.6374 - val_loss: 1.2072 - val_acc: 0.6435\n",
      "Epoch 4/12\n",
      "110288/110288 [==============================] - 19s 172us/step - loss: 1.1563 - acc: 0.6540 - val_loss: 1.1128 - val_acc: 0.6618\n",
      "Epoch 5/12\n",
      "110288/110288 [==============================] - 19s 173us/step - loss: 1.0786 - acc: 0.6691 - val_loss: 1.0441 - val_acc: 0.6754\n",
      "Epoch 6/12\n",
      "110288/110288 [==============================] - 19s 172us/step - loss: 1.0216 - acc: 0.6774 - val_loss: 0.9949 - val_acc: 0.6830\n",
      "Epoch 7/12\n",
      "110288/110288 [==============================] - 19s 172us/step - loss: 0.9742 - acc: 0.6845 - val_loss: 0.9569 - val_acc: 0.6858\n",
      "Epoch 8/12\n",
      "110288/110288 [==============================] - 19s 171us/step - loss: 0.9330 - acc: 0.6925 - val_loss: 0.9185 - val_acc: 0.6973\n",
      "Epoch 9/12\n",
      "110288/110288 [==============================] - 19s 172us/step - loss: 0.8970 - acc: 0.7005 - val_loss: 0.8736 - val_acc: 0.7064\n",
      "Epoch 10/12\n",
      "110288/110288 [==============================] - 19s 172us/step - loss: 0.8591 - acc: 0.7120 - val_loss: 0.8360 - val_acc: 0.7221\n",
      "Epoch 11/12\n",
      "110288/110288 [==============================] - 19s 172us/step - loss: 0.8273 - acc: 0.7246 - val_loss: 0.8152 - val_acc: 0.7320\n",
      "Epoch 12/12\n",
      "110288/110288 [==============================] - 19s 172us/step - loss: 0.7878 - acc: 0.7420 - val_loss: 0.7802 - val_acc: 0.7445\n"
     ]
    },
    {
     "data": {
      "text/plain": [
       "<keras.callbacks.History at 0x7f19300a1b70>"
      ]
     },
     "execution_count": 12,
     "metadata": {},
     "output_type": "execute_result"
    }
   ],
   "source": [
    "# Reshaping the input to work with a basic RNN\n",
    "tmp_x = pad(preproc_english_sentences, max_french_sequence_length)\n",
    "tmp_x = tmp_x.reshape((-1, preproc_french_sentences.shape[-2], 1))\n",
    "\n",
    "# Train the neural network\n",
    "simple_rnn_model = simple_model(tmp_x.shape, max_french_sequence_length, english_vocab_size + 1, french_vocab_size + 1)\n",
    "simple_rnn_model.fit(tmp_x, preproc_french_sentences, batch_size=1024, epochs=12, validation_split=0.2)"
   ]
  },
  {
   "cell_type": "code",
   "execution_count": 13,
   "metadata": {},
   "outputs": [
    {
     "name": "stdout",
     "output_type": "stream",
     "text": [
      "new jersey est parfois calme en l' de il est neigeux en en <PAD> <PAD> <PAD> <PAD> <PAD> <PAD> <PAD> <PAD>\n"
     ]
    }
   ],
   "source": [
    "# Print prediction(s)\n",
    "print(logits_to_text(simple_rnn_model.predict(tmp_x[:1])[0], french_tokenizer))"
   ]
  },
  {
   "cell_type": "markdown",
   "metadata": {},
   "source": [
    "### Model 2: Embedding (IMPLEMENTATION)\n",
    "![RNN](images/embedding.png)\n",
    "You've turned the words into ids, but there's a better representation of a word.  This is called word embeddings.  An embedding is a vector representation of the word that is close to similar words in n-dimensional space, where the n represents the size of the embedding vectors.\n",
    "\n",
    "In this model, you'll create a RNN model using embedding."
   ]
  },
  {
   "cell_type": "code",
   "execution_count": 14,
   "metadata": {},
   "outputs": [
    {
     "name": "stdout",
     "output_type": "stream",
     "text": [
      "_________________________________________________________________\n",
      "Layer (type)                 Output Shape              Param #   \n",
      "=================================================================\n",
      "input_3 (InputLayer)         (None, 21)                0         \n",
      "_________________________________________________________________\n",
      "embedding_1 (Embedding)      (None, 21, 500)           99500     \n",
      "_________________________________________________________________\n",
      "gru_3 (GRU)                  (None, 21, 500)           1501500   \n",
      "_________________________________________________________________\n",
      "time_distributed_3 (TimeDist (None, 21, 344)           172344    \n",
      "_________________________________________________________________\n",
      "activation_3 (Activation)    (None, 21, 344)           0         \n",
      "=================================================================\n",
      "Total params: 1,773,344\n",
      "Trainable params: 1,773,344\n",
      "Non-trainable params: 0\n",
      "_________________________________________________________________\n"
     ]
    }
   ],
   "source": [
    "from keras.models import Sequential\n",
    "from keras.layers import Dropout\n",
    "\n",
    "def embed_model(input_shape, output_sequence_length, english_vocab_size, french_vocab_size):\n",
    "    \"\"\"\n",
    "    Build and train a RNN model using word embedding on x and y\n",
    "    :param input_shape: Tuple of input shape\n",
    "    :param output_sequence_length: Length of output sequence\n",
    "    :param english_vocab_size: Number of unique English words in the dataset\n",
    "    :param french_vocab_size: Number of unique French words in the dataset\n",
    "    :return: Keras model built, but not trained\n",
    "    \"\"\"\n",
    "    # TODO: Implement\n",
    "    \n",
    "    learning_rate = 1e-3\n",
    "    input_seq = Input(input_shape[1:])\n",
    "    embedding_dim = 500\n",
    "    embedding = Embedding(input_dim = english_vocab_size, output_dim = embedding_dim, input_length = input_shape[1])(input_seq)\n",
    "    rnn = GRU(embedding_dim, return_sequences=True)(embedding)\n",
    "    logits = TimeDistributed(Dense(french_vocab_size))(rnn)\n",
    "    model = Model(input_seq, Activation('softmax')(logits))\n",
    "    \n",
    "    model.compile(loss = sparse_categorical_crossentropy, optimizer = Adam(learning_rate), metrics = ['accuracy'])\n",
    "    model.summary()\n",
    "    return model\n",
    "\n",
    "tests.test_embed_model(embed_model)"
   ]
  },
  {
   "cell_type": "code",
   "execution_count": 15,
   "metadata": {},
   "outputs": [
    {
     "name": "stdout",
     "output_type": "stream",
     "text": [
      "_________________________________________________________________\n",
      "Layer (type)                 Output Shape              Param #   \n",
      "=================================================================\n",
      "input_4 (InputLayer)         (None, 21)                0         \n",
      "_________________________________________________________________\n",
      "embedding_2 (Embedding)      (None, 21, 500)           100000    \n",
      "_________________________________________________________________\n",
      "gru_4 (GRU)                  (None, 21, 500)           1501500   \n",
      "_________________________________________________________________\n",
      "time_distributed_4 (TimeDist (None, 21, 345)           172845    \n",
      "_________________________________________________________________\n",
      "activation_4 (Activation)    (None, 21, 345)           0         \n",
      "=================================================================\n",
      "Total params: 1,774,345\n",
      "Trainable params: 1,774,345\n",
      "Non-trainable params: 0\n",
      "_________________________________________________________________\n",
      "Train on 110288 samples, validate on 27573 samples\n",
      "Epoch 1/12\n",
      "110288/110288 [==============================] - 28s 251us/step - loss: 2.5369 - acc: 0.5274 - val_loss: 1.3784 - val_acc: 0.6718\n",
      "Epoch 2/12\n",
      "110288/110288 [==============================] - 27s 247us/step - loss: 0.9466 - acc: 0.7631 - val_loss: 0.6576 - val_acc: 0.8119\n",
      "Epoch 3/12\n",
      "110288/110288 [==============================] - 27s 248us/step - loss: 0.5257 - acc: 0.8434 - val_loss: 0.4302 - val_acc: 0.8687\n",
      "Epoch 4/12\n",
      "110288/110288 [==============================] - 27s 248us/step - loss: 0.3777 - acc: 0.8823 - val_loss: 0.3310 - val_acc: 0.8954\n",
      "Epoch 5/12\n",
      "110288/110288 [==============================] - 27s 247us/step - loss: 0.3041 - acc: 0.9021 - val_loss: 0.2807 - val_acc: 0.9086\n",
      "Epoch 6/12\n",
      "110288/110288 [==============================] - 27s 246us/step - loss: 0.2631 - acc: 0.9137 - val_loss: 0.2685 - val_acc: 0.9109\n",
      "Epoch 7/12\n",
      "110288/110288 [==============================] - 27s 246us/step - loss: 0.2384 - acc: 0.9205 - val_loss: 0.2414 - val_acc: 0.9192\n",
      "Epoch 8/12\n",
      "110288/110288 [==============================] - 27s 247us/step - loss: 0.2210 - acc: 0.9254 - val_loss: 0.2215 - val_acc: 0.9252\n",
      "Epoch 9/12\n",
      "110288/110288 [==============================] - 27s 247us/step - loss: 0.2083 - acc: 0.9287 - val_loss: 0.2075 - val_acc: 0.9290\n",
      "Epoch 10/12\n",
      "110288/110288 [==============================] - 27s 248us/step - loss: 0.1974 - acc: 0.9315 - val_loss: 0.1985 - val_acc: 0.9314\n",
      "Epoch 11/12\n",
      "110288/110288 [==============================] - 27s 248us/step - loss: 0.1897 - acc: 0.9335 - val_loss: 0.1954 - val_acc: 0.9320\n",
      "Epoch 12/12\n",
      "110288/110288 [==============================] - 27s 248us/step - loss: 0.1833 - acc: 0.9353 - val_loss: 0.1903 - val_acc: 0.9338\n"
     ]
    },
    {
     "data": {
      "text/plain": [
       "<keras.callbacks.History at 0x7f1930087f98>"
      ]
     },
     "execution_count": 15,
     "metadata": {},
     "output_type": "execute_result"
    }
   ],
   "source": [
    "# TODO: Reshape the input\n",
    "tmp_x = pad(preproc_english_sentences, max_french_sequence_length)\n",
    "#tmp_x = tmp_x.reshape((-1, preproc_french_sentences.shape[-2], 1))\n",
    "\n",
    "# TODO: Train the neural network\n",
    "embed_rnn_model = embed_model(tmp_x.shape, max_french_sequence_length, english_vocab_size + 1, french_vocab_size + 1)\n",
    "embed_rnn_model.fit(tmp_x, preproc_french_sentences, batch_size=1024, epochs=12, validation_split=0.2)"
   ]
  },
  {
   "cell_type": "code",
   "execution_count": 16,
   "metadata": {},
   "outputs": [
    {
     "name": "stdout",
     "output_type": "stream",
     "text": [
      "new jersey est parfois calme en l' automne et il est neigeux en avril <PAD> <PAD> <PAD> <PAD> <PAD> <PAD> <PAD>\n"
     ]
    }
   ],
   "source": [
    "# TODO: Print prediction(s)\n",
    "print(logits_to_text(embed_rnn_model.predict(tmp_x[:1])[0], french_tokenizer))"
   ]
  },
  {
   "cell_type": "markdown",
   "metadata": {},
   "source": [
    "### Model 3: Bidirectional RNNs (IMPLEMENTATION)\n",
    "![RNN](images/bidirectional.png)\n",
    "One restriction of a RNN is that it can't see the future input, only the past.  This is where bidirectional recurrent neural networks come in.  They are able to see the future data."
   ]
  },
  {
   "cell_type": "code",
   "execution_count": 17,
   "metadata": {},
   "outputs": [
    {
     "name": "stdout",
     "output_type": "stream",
     "text": [
      "_________________________________________________________________\n",
      "Layer (type)                 Output Shape              Param #   \n",
      "=================================================================\n",
      "input_5 (InputLayer)         (None, 21, 1)             0         \n",
      "_________________________________________________________________\n",
      "bidirectional_1 (Bidirection (None, 21, 1000)          1506000   \n",
      "_________________________________________________________________\n",
      "time_distributed_5 (TimeDist (None, 21, 344)           344344    \n",
      "_________________________________________________________________\n",
      "activation_5 (Activation)    (None, 21, 344)           0         \n",
      "=================================================================\n",
      "Total params: 1,850,344\n",
      "Trainable params: 1,850,344\n",
      "Non-trainable params: 0\n",
      "_________________________________________________________________\n"
     ]
    }
   ],
   "source": [
    "from keras.layers import Bidirectional, LSTM\n",
    "\n",
    "def bd_model(input_shape, output_sequence_length, english_vocab_size, french_vocab_size):\n",
    "    \"\"\"\n",
    "    Build and train a bidirectional RNN model on x and y\n",
    "    :param input_shape: Tuple of input shape\n",
    "    :param output_sequence_length: Length of output sequence\n",
    "    :param english_vocab_size: Number of unique English words in the dataset\n",
    "    :param french_vocab_size: Number of unique French words in the dataset\n",
    "    :return: Keras model built, but not trained\n",
    "    \"\"\"\n",
    "    # TODO: Implement\n",
    "    learning_rate = 1e-3\n",
    "    input_seq = Input(input_shape[1:])\n",
    "    # Inspired by: https://keras.io/examples/imdb_bidirectional_lstm/\n",
    "    hidden_state_dim = 500\n",
    "    rnn = Bidirectional(GRU(hidden_state_dim, return_sequences=True))(input_seq)\n",
    "    logits = TimeDistributed(Dense(french_vocab_size))(rnn)\n",
    "    model = Model(input_seq, Activation('softmax')(logits))\n",
    "    \n",
    "    model.compile(loss = sparse_categorical_crossentropy, optimizer = Adam(learning_rate), metrics = ['accuracy'])\n",
    "    model.summary()\n",
    "    return model\n",
    "\n",
    "tests.test_bd_model(bd_model)\n",
    "\n",
    "\n",
    "# TODO: Train and Print prediction(s)"
   ]
  },
  {
   "cell_type": "code",
   "execution_count": 18,
   "metadata": {},
   "outputs": [
    {
     "name": "stdout",
     "output_type": "stream",
     "text": [
      "_________________________________________________________________\n",
      "Layer (type)                 Output Shape              Param #   \n",
      "=================================================================\n",
      "input_6 (InputLayer)         (None, 21, 1)             0         \n",
      "_________________________________________________________________\n",
      "bidirectional_2 (Bidirection (None, 21, 1000)          1506000   \n",
      "_________________________________________________________________\n",
      "time_distributed_6 (TimeDist (None, 21, 345)           345345    \n",
      "_________________________________________________________________\n",
      "activation_6 (Activation)    (None, 21, 345)           0         \n",
      "=================================================================\n",
      "Total params: 1,851,345\n",
      "Trainable params: 1,851,345\n",
      "Non-trainable params: 0\n",
      "_________________________________________________________________\n",
      "Train on 110288 samples, validate on 27573 samples\n",
      "Epoch 1/12\n",
      "110288/110288 [==============================] - 35s 319us/step - loss: 1.8672 - acc: 0.5722 - val_loss: 1.3483 - val_acc: 0.6272\n",
      "Epoch 2/12\n",
      "110288/110288 [==============================] - 34s 312us/step - loss: 1.2431 - acc: 0.6440 - val_loss: 1.1609 - val_acc: 0.6608\n",
      "Epoch 3/12\n",
      "110288/110288 [==============================] - 34s 312us/step - loss: 1.1043 - acc: 0.6711 - val_loss: 1.0493 - val_acc: 0.6838\n",
      "Epoch 4/12\n",
      "110288/110288 [==============================] - 34s 312us/step - loss: 1.0078 - acc: 0.6887 - val_loss: 0.9645 - val_acc: 0.6924\n",
      "Epoch 5/12\n",
      "110288/110288 [==============================] - 34s 312us/step - loss: 0.9350 - acc: 0.7016 - val_loss: 0.9039 - val_acc: 0.7062\n",
      "Epoch 6/12\n",
      "110288/110288 [==============================] - 34s 312us/step - loss: 0.8822 - acc: 0.7113 - val_loss: 0.8557 - val_acc: 0.7142\n",
      "Epoch 7/12\n",
      "110288/110288 [==============================] - 34s 313us/step - loss: 0.8324 - acc: 0.7216 - val_loss: 0.8089 - val_acc: 0.7274\n",
      "Epoch 8/12\n",
      "110288/110288 [==============================] - 35s 313us/step - loss: 0.7951 - acc: 0.7300 - val_loss: 0.7770 - val_acc: 0.7356\n",
      "Epoch 9/12\n",
      "110288/110288 [==============================] - 34s 313us/step - loss: 0.7539 - acc: 0.7427 - val_loss: 0.7307 - val_acc: 0.7522\n",
      "Epoch 10/12\n",
      "110288/110288 [==============================] - 35s 313us/step - loss: 0.7127 - acc: 0.7585 - val_loss: 0.6867 - val_acc: 0.7710\n",
      "Epoch 11/12\n",
      "110288/110288 [==============================] - 35s 313us/step - loss: 0.6638 - acc: 0.7808 - val_loss: 0.6576 - val_acc: 0.7775\n",
      "Epoch 12/12\n",
      "110288/110288 [==============================] - 35s 313us/step - loss: 0.6326 - acc: 0.7935 - val_loss: 0.6082 - val_acc: 0.8078\n"
     ]
    },
    {
     "data": {
      "text/plain": [
       "<keras.callbacks.History at 0x7f19216c7748>"
      ]
     },
     "execution_count": 18,
     "metadata": {},
     "output_type": "execute_result"
    }
   ],
   "source": [
    "# TODO: Reshape the input\n",
    "tmp_x = pad(preproc_english_sentences, max_french_sequence_length)\n",
    "tmp_x = tmp_x.reshape((-1, preproc_french_sentences.shape[-2], 1))\n",
    "\n",
    "# TODO: Train the neural network\n",
    "bd_rnn_model = bd_model(tmp_x.shape, max_french_sequence_length, english_vocab_size + 1, french_vocab_size + 1)\n",
    "bd_rnn_model.fit(tmp_x, preproc_french_sentences, batch_size=1024, epochs=12, validation_split=0.2)"
   ]
  },
  {
   "cell_type": "code",
   "execution_count": 19,
   "metadata": {},
   "outputs": [
    {
     "name": "stdout",
     "output_type": "stream",
     "text": [
      "new jersey est parfois calme au mois de il est est en en <PAD> <PAD> <PAD> <PAD> <PAD> <PAD> <PAD> <PAD>\n"
     ]
    }
   ],
   "source": [
    "# TODO: Print prediction(s)\n",
    "print(logits_to_text(bd_rnn_model.predict(tmp_x[:1])[0], french_tokenizer))"
   ]
  },
  {
   "cell_type": "markdown",
   "metadata": {},
   "source": [
    "### Model 4: Encoder-Decoder (OPTIONAL)\n",
    "Time to look at encoder-decoder models.  This model is made up of an encoder and decoder. The encoder creates a matrix representation of the sentence.  The decoder takes this matrix as input and predicts the translation as output.\n",
    "\n",
    "Create an encoder-decoder model in the cell below."
   ]
  },
  {
   "cell_type": "code",
   "execution_count": 20,
   "metadata": {},
   "outputs": [
    {
     "name": "stdout",
     "output_type": "stream",
     "text": [
      "_________________________________________________________________\n",
      "Layer (type)                 Output Shape              Param #   \n",
      "=================================================================\n",
      "input_7 (InputLayer)         (None, 15, 1)             0         \n",
      "_________________________________________________________________\n",
      "gru_7 (GRU)                  (None, 500)               753000    \n",
      "_________________________________________________________________\n",
      "repeat_vector_1 (RepeatVecto (None, 21, 500)           0         \n",
      "_________________________________________________________________\n",
      "gru_8 (GRU)                  (None, 21, 500)           1501500   \n",
      "_________________________________________________________________\n",
      "time_distributed_7 (TimeDist (None, 21, 344)           172344    \n",
      "_________________________________________________________________\n",
      "activation_7 (Activation)    (None, 21, 344)           0         \n",
      "=================================================================\n",
      "Total params: 2,426,844\n",
      "Trainable params: 2,426,844\n",
      "Non-trainable params: 0\n",
      "_________________________________________________________________\n"
     ]
    }
   ],
   "source": [
    "def encdec_model(input_shape, output_sequence_length, english_vocab_size, french_vocab_size):\n",
    "    learning_rate = 1e-3\n",
    "    input_seq = Input(input_shape[1:])\n",
    "    hidden_state_dim = 500\n",
    "    encoder = GRU(hidden_state_dim)(input_seq)\n",
    "    bridge = RepeatVector(output_sequence_length)(encoder)\n",
    "    decoder = GRU(hidden_state_dim, return_sequences=True)(bridge)\n",
    "    logits = TimeDistributed(Dense(french_vocab_size))(decoder)\n",
    "    model = Model(input_seq, Activation('softmax')(logits))\n",
    "    \n",
    "    model.compile(loss = sparse_categorical_crossentropy, optimizer = Adam(learning_rate), metrics = ['accuracy'])\n",
    "    model.summary()\n",
    "    return model\n",
    "\n",
    "tests.test_encdec_model(encdec_model)"
   ]
  },
  {
   "cell_type": "code",
   "execution_count": 21,
   "metadata": {},
   "outputs": [
    {
     "name": "stdout",
     "output_type": "stream",
     "text": [
      "_________________________________________________________________\n",
      "Layer (type)                 Output Shape              Param #   \n",
      "=================================================================\n",
      "input_8 (InputLayer)         (None, 15, 1)             0         \n",
      "_________________________________________________________________\n",
      "gru_9 (GRU)                  (None, 500)               753000    \n",
      "_________________________________________________________________\n",
      "repeat_vector_2 (RepeatVecto (None, 21, 500)           0         \n",
      "_________________________________________________________________\n",
      "gru_10 (GRU)                 (None, 21, 500)           1501500   \n",
      "_________________________________________________________________\n",
      "time_distributed_8 (TimeDist (None, 21, 345)           172845    \n",
      "_________________________________________________________________\n",
      "activation_8 (Activation)    (None, 21, 345)           0         \n",
      "=================================================================\n",
      "Total params: 2,427,345\n",
      "Trainable params: 2,427,345\n",
      "Non-trainable params: 0\n",
      "_________________________________________________________________\n",
      "Train on 110288 samples, validate on 27573 samples\n",
      "Epoch 1/12\n",
      "110288/110288 [==============================] - 37s 338us/step - loss: 2.4657 - acc: 0.4801 - val_loss: 1.8318 - val_acc: 0.5526\n",
      "Epoch 2/12\n",
      "110288/110288 [==============================] - 36s 329us/step - loss: 1.6653 - acc: 0.5708 - val_loss: 1.5303 - val_acc: 0.5874\n",
      "Epoch 3/12\n",
      "110288/110288 [==============================] - 36s 330us/step - loss: 1.4454 - acc: 0.6009 - val_loss: 1.4004 - val_acc: 0.6073\n",
      "Epoch 4/12\n",
      "110288/110288 [==============================] - 36s 331us/step - loss: 1.3185 - acc: 0.6253 - val_loss: 1.2710 - val_acc: 0.6297\n",
      "Epoch 5/12\n",
      "110288/110288 [==============================] - 36s 330us/step - loss: 1.2339 - acc: 0.6392 - val_loss: 1.1902 - val_acc: 0.6470\n",
      "Epoch 6/12\n",
      "110288/110288 [==============================] - 36s 330us/step - loss: 1.1743 - acc: 0.6504 - val_loss: 1.1404 - val_acc: 0.6599\n",
      "Epoch 7/12\n",
      "110288/110288 [==============================] - 37s 331us/step - loss: 1.1355 - acc: 0.6581 - val_loss: 1.1109 - val_acc: 0.6611\n",
      "Epoch 8/12\n",
      "110288/110288 [==============================] - 37s 332us/step - loss: 1.0867 - acc: 0.6682 - val_loss: 1.0338 - val_acc: 0.6809\n",
      "Epoch 9/12\n",
      "110288/110288 [==============================] - 36s 331us/step - loss: 1.0318 - acc: 0.6810 - val_loss: 1.2754 - val_acc: 0.6343\n",
      "Epoch 10/12\n",
      "110288/110288 [==============================] - 37s 331us/step - loss: 1.0807 - acc: 0.6608 - val_loss: 1.0429 - val_acc: 0.6672\n",
      "Epoch 11/12\n",
      "110288/110288 [==============================] - 36s 330us/step - loss: 1.0272 - acc: 0.6711 - val_loss: 1.0327 - val_acc: 0.6684\n",
      "Epoch 12/12\n",
      "110288/110288 [==============================] - 36s 330us/step - loss: 1.0131 - acc: 0.6743 - val_loss: 0.9804 - val_acc: 0.6839\n"
     ]
    },
    {
     "data": {
      "text/plain": [
       "<keras.callbacks.History at 0x7f1920609668>"
      ]
     },
     "execution_count": 21,
     "metadata": {},
     "output_type": "execute_result"
    }
   ],
   "source": [
    "tmp_x = preproc_english_sentences[:, :, None]\n",
    "\n",
    "# Train the neural network\n",
    "encdec_rnn_model = encdec_model(tmp_x.shape, max_french_sequence_length, english_vocab_size + 1, french_vocab_size + 1)\n",
    "encdec_rnn_model.fit(tmp_x, preproc_french_sentences, batch_size=1024, epochs=12, validation_split=0.2)"
   ]
  },
  {
   "cell_type": "code",
   "execution_count": 22,
   "metadata": {},
   "outputs": [
    {
     "name": "stdout",
     "output_type": "stream",
     "text": [
      "new jersey est parfois chaud en mois de il est il en en <PAD> <PAD> <PAD> <PAD> <PAD> <PAD> <PAD> <PAD>\n"
     ]
    }
   ],
   "source": [
    "# Print prediction(s)\n",
    "print(logits_to_text(encdec_rnn_model.predict(tmp_x[:1])[0], french_tokenizer))"
   ]
  },
  {
   "cell_type": "markdown",
   "metadata": {},
   "source": [
    "### Model 5: Custom (IMPLEMENTATION)\n",
    "Use everything you learned from the previous models to create a model that incorporates embedding and a bidirectional rnn into one model."
   ]
  },
  {
   "cell_type": "code",
   "execution_count": 23,
   "metadata": {},
   "outputs": [
    {
     "name": "stdout",
     "output_type": "stream",
     "text": [
      "_________________________________________________________________\n",
      "Layer (type)                 Output Shape              Param #   \n",
      "=================================================================\n",
      "input_9 (InputLayer)         (None, 15)                0         \n",
      "_________________________________________________________________\n",
      "embedding_3 (Embedding)      (None, 15, 500)           99500     \n",
      "_________________________________________________________________\n",
      "bidirectional_3 (Bidirection (None, 1000)              3003000   \n",
      "_________________________________________________________________\n",
      "repeat_vector_3 (RepeatVecto (None, 21, 1000)          0         \n",
      "_________________________________________________________________\n",
      "bidirectional_4 (Bidirection (None, 21, 1000)          4503000   \n",
      "_________________________________________________________________\n",
      "time_distributed_9 (TimeDist (None, 21, 344)           344344    \n",
      "_________________________________________________________________\n",
      "activation_9 (Activation)    (None, 21, 344)           0         \n",
      "=================================================================\n",
      "Total params: 7,949,844\n",
      "Trainable params: 7,949,844\n",
      "Non-trainable params: 0\n",
      "_________________________________________________________________\n"
     ]
    }
   ],
   "source": [
    "def model_final(input_shape, output_sequence_length, english_vocab_size, french_vocab_size):\n",
    "    \"\"\"\n",
    "    Build and train a model that incorporates embedding, encoder-decoder, and bidirectional RNN on x and y\n",
    "    :param input_shape: Tuple of input shape\n",
    "    :param output_sequence_length: Length of output sequence\n",
    "    :param english_vocab_size: Number of unique English words in the dataset\n",
    "    :param french_vocab_size: Number of unique French words in the dataset\n",
    "    :return: Keras model built, but not trained\n",
    "    \"\"\"\n",
    "    # TODO: Implement\n",
    "    learning_rate = 1e-3\n",
    "    input_seq = Input(input_shape[1:])\n",
    "    embedding_dim = 500\n",
    "    embedding = Embedding(input_dim = english_vocab_size, output_dim = embedding_dim, input_length = input_shape[1])(input_seq)\n",
    "    encoder = Bidirectional(GRU(embedding_dim))(embedding)\n",
    "    bridge = RepeatVector(output_sequence_length)(encoder)\n",
    "    decoder = Bidirectional(GRU(embedding_dim, return_sequences=True))(bridge)\n",
    "    logits = TimeDistributed(Dense(french_vocab_size))(decoder)\n",
    "    model = Model(input_seq, Activation('softmax')(logits))\n",
    "    \n",
    "    model.compile(loss = sparse_categorical_crossentropy, optimizer = Adam(learning_rate), metrics = ['accuracy'])\n",
    "    model.summary()\n",
    "    return model\n",
    "    \n",
    "tests.test_model_final(model_final)"
   ]
  },
  {
   "cell_type": "code",
   "execution_count": 24,
   "metadata": {},
   "outputs": [
    {
     "name": "stdout",
     "output_type": "stream",
     "text": [
      "_________________________________________________________________\n",
      "Layer (type)                 Output Shape              Param #   \n",
      "=================================================================\n",
      "input_10 (InputLayer)        (None, 15)                0         \n",
      "_________________________________________________________________\n",
      "embedding_4 (Embedding)      (None, 15, 500)           100000    \n",
      "_________________________________________________________________\n",
      "bidirectional_5 (Bidirection (None, 1000)              3003000   \n",
      "_________________________________________________________________\n",
      "repeat_vector_4 (RepeatVecto (None, 21, 1000)          0         \n",
      "_________________________________________________________________\n",
      "bidirectional_6 (Bidirection (None, 21, 1000)          4503000   \n",
      "_________________________________________________________________\n",
      "time_distributed_10 (TimeDis (None, 21, 345)           345345    \n",
      "_________________________________________________________________\n",
      "activation_10 (Activation)   (None, 21, 345)           0         \n",
      "=================================================================\n",
      "Total params: 7,951,345\n",
      "Trainable params: 7,951,345\n",
      "Non-trainable params: 0\n",
      "_________________________________________________________________\n",
      "Train on 110288 samples, validate on 27573 samples\n",
      "Epoch 1/12\n",
      "110288/110288 [==============================] - 98s 890us/step - loss: 2.2716 - acc: 0.5032 - val_loss: 1.5662 - val_acc: 0.6037\n",
      "Epoch 2/12\n",
      "110288/110288 [==============================] - 97s 876us/step - loss: 1.3216 - acc: 0.6470 - val_loss: 1.1618 - val_acc: 0.6849\n",
      "Epoch 3/12\n",
      "110288/110288 [==============================] - 96s 875us/step - loss: 0.9671 - acc: 0.7274 - val_loss: 0.8281 - val_acc: 0.7625\n",
      "Epoch 4/12\n",
      "110288/110288 [==============================] - 96s 873us/step - loss: 0.7319 - acc: 0.7854 - val_loss: 0.6554 - val_acc: 0.8072\n",
      "Epoch 5/12\n",
      "110288/110288 [==============================] - 96s 871us/step - loss: 0.5671 - acc: 0.8315 - val_loss: 0.4891 - val_acc: 0.8551\n",
      "Epoch 6/12\n",
      "110288/110288 [==============================] - 96s 871us/step - loss: 0.4117 - acc: 0.8801 - val_loss: 0.3579 - val_acc: 0.8969\n",
      "Epoch 7/12\n",
      "110288/110288 [==============================] - 96s 868us/step - loss: 0.3046 - acc: 0.9121 - val_loss: 0.2654 - val_acc: 0.9239\n",
      "Epoch 8/12\n",
      "110288/110288 [==============================] - 96s 873us/step - loss: 0.2325 - acc: 0.9334 - val_loss: 0.2118 - val_acc: 0.9403\n",
      "Epoch 9/12\n",
      "110288/110288 [==============================] - 96s 871us/step - loss: 0.1800 - acc: 0.9485 - val_loss: 0.1795 - val_acc: 0.9486\n",
      "Epoch 10/12\n",
      "110288/110288 [==============================] - 97s 877us/step - loss: 0.1463 - acc: 0.9580 - val_loss: 0.1409 - val_acc: 0.9600\n",
      "Epoch 11/12\n",
      "110288/110288 [==============================] - 97s 883us/step - loss: 0.1209 - acc: 0.9653 - val_loss: 0.1240 - val_acc: 0.9645\n",
      "Epoch 12/12\n",
      "110288/110288 [==============================] - 98s 886us/step - loss: 0.1010 - acc: 0.9708 - val_loss: 0.1097 - val_acc: 0.9676\n"
     ]
    },
    {
     "data": {
      "text/plain": [
       "<keras.callbacks.History at 0x7f18e4c2f470>"
      ]
     },
     "execution_count": 24,
     "metadata": {},
     "output_type": "execute_result"
    }
   ],
   "source": [
    "# Train the neural network\n",
    "final_rnn_model = model_final(preproc_english_sentences.shape, max_french_sequence_length, english_vocab_size + 1, french_vocab_size + 1)\n",
    "final_rnn_model.fit(preproc_english_sentences, preproc_french_sentences, batch_size=1024, epochs=12, validation_split=0.2)"
   ]
  },
  {
   "cell_type": "code",
   "execution_count": 25,
   "metadata": {},
   "outputs": [
    {
     "name": "stdout",
     "output_type": "stream",
     "text": [
      "new jersey est parfois calme pendant cours automne et il et neigeux est <PAD> <PAD> <PAD> <PAD> <PAD> <PAD> <PAD> <PAD>\n"
     ]
    }
   ],
   "source": [
    "# Print prediction(s)\n",
    "print(logits_to_text(final_rnn_model.predict(preproc_english_sentences[:1])[0], french_tokenizer))"
   ]
  },
  {
   "cell_type": "markdown",
   "metadata": {},
   "source": [
    "## Prediction (IMPLEMENTATION)"
   ]
  },
  {
   "cell_type": "code",
   "execution_count": 26,
   "metadata": {},
   "outputs": [
    {
     "name": "stdout",
     "output_type": "stream",
     "text": [
      "_________________________________________________________________\n",
      "Layer (type)                 Output Shape              Param #   \n",
      "=================================================================\n",
      "input_11 (InputLayer)        (None, 15)                0         \n",
      "_________________________________________________________________\n",
      "embedding_5 (Embedding)      (None, 15, 500)           100000    \n",
      "_________________________________________________________________\n",
      "bidirectional_7 (Bidirection (None, 1000)              3003000   \n",
      "_________________________________________________________________\n",
      "repeat_vector_5 (RepeatVecto (None, 21, 1000)          0         \n",
      "_________________________________________________________________\n",
      "bidirectional_8 (Bidirection (None, 21, 1000)          4503000   \n",
      "_________________________________________________________________\n",
      "time_distributed_11 (TimeDis (None, 21, 345)           345345    \n",
      "_________________________________________________________________\n",
      "activation_11 (Activation)   (None, 21, 345)           0         \n",
      "=================================================================\n",
      "Total params: 7,951,345\n",
      "Trainable params: 7,951,345\n",
      "Non-trainable params: 0\n",
      "_________________________________________________________________\n",
      "Train on 110288 samples, validate on 27573 samples\n",
      "Epoch 1/12\n",
      "110288/110288 [==============================] - 99s 902us/step - loss: 2.2629 - acc: 0.5056 - val_loss: 1.5344 - val_acc: 0.6064\n",
      "Epoch 2/12\n",
      "110288/110288 [==============================] - 98s 887us/step - loss: 1.3266 - acc: 0.6469 - val_loss: 1.1480 - val_acc: 0.6799\n",
      "Epoch 3/12\n",
      "110288/110288 [==============================] - 98s 888us/step - loss: 0.9965 - acc: 0.7205 - val_loss: 0.8683 - val_acc: 0.7502\n",
      "Epoch 4/12\n",
      "110288/110288 [==============================] - 98s 886us/step - loss: 0.7642 - acc: 0.7768 - val_loss: 0.6659 - val_acc: 0.8028\n",
      "Epoch 5/12\n",
      "110288/110288 [==============================] - 98s 886us/step - loss: 0.5824 - acc: 0.8280 - val_loss: 0.5062 - val_acc: 0.8516\n",
      "Epoch 6/12\n",
      "110288/110288 [==============================] - 98s 888us/step - loss: 0.4376 - acc: 0.8723 - val_loss: 0.3714 - val_acc: 0.8942\n",
      "Epoch 7/12\n",
      "110288/110288 [==============================] - 98s 888us/step - loss: 0.3166 - acc: 0.9097 - val_loss: 0.2795 - val_acc: 0.9199\n",
      "Epoch 8/12\n",
      "110288/110288 [==============================] - 98s 886us/step - loss: 0.2395 - acc: 0.9314 - val_loss: 0.2172 - val_acc: 0.9369\n",
      "Epoch 9/12\n",
      "110288/110288 [==============================] - 97s 881us/step - loss: 0.1963 - acc: 0.9423 - val_loss: 0.1792 - val_acc: 0.9489\n",
      "Epoch 10/12\n",
      "110288/110288 [==============================] - 97s 879us/step - loss: 0.1529 - acc: 0.9558 - val_loss: 0.1548 - val_acc: 0.9547\n",
      "Epoch 11/12\n",
      "110288/110288 [==============================] - 97s 881us/step - loss: 0.1304 - acc: 0.9620 - val_loss: 0.1309 - val_acc: 0.9619\n",
      "Epoch 12/12\n",
      "110288/110288 [==============================] - 97s 879us/step - loss: 0.1147 - acc: 0.9666 - val_loss: 0.1260 - val_acc: 0.9626\n",
      "Sample 1:\n",
      "il a vu un vieux camion jaune <PAD> <PAD> <PAD> <PAD> <PAD> <PAD> <PAD> <PAD> <PAD> <PAD> <PAD> <PAD> <PAD> <PAD>\n",
      "Il a vu un vieux camion jaune\n",
      "Sample 2:\n",
      "new jersey est parfois calme pendant cours automne et il est neigeux en avril <PAD> <PAD> <PAD> <PAD> <PAD> <PAD> <PAD>\n",
      "new jersey est parfois calme pendant l' automne et il est neigeux en avril <PAD> <PAD> <PAD> <PAD> <PAD> <PAD> <PAD>\n"
     ]
    }
   ],
   "source": [
    "def final_predictions(x, y, x_tk, y_tk):\n",
    "    \"\"\"\n",
    "    Gets predictions using the final model\n",
    "    :param x: Preprocessed English data\n",
    "    :param y: Preprocessed French data\n",
    "    :param x_tk: English tokenizer\n",
    "    :param y_tk: French tokenizer\n",
    "    \"\"\"\n",
    "    # TODO: Train neural network using model_final\n",
    "    \n",
    "    model = model_final(x.shape, y.shape[1], len(x_tk.word_index) + 1, len(y_tk.word_index) + 1)\n",
    "    model.fit(x, y, batch_size=1024, epochs=12, validation_split=0.2)\n",
    "    \n",
    "    ## DON'T EDIT ANYTHING BELOW THIS LINE\n",
    "    y_id_to_word = {value: key for key, value in y_tk.word_index.items()}\n",
    "    y_id_to_word[0] = '<PAD>'\n",
    "\n",
    "    sentence = 'he saw a old yellow truck'\n",
    "    sentence = [x_tk.word_index[word] for word in sentence.split()]\n",
    "    sentence = pad_sequences([sentence], maxlen=x.shape[-1], padding='post')\n",
    "    sentences = np.array([sentence[0], x[0]])\n",
    "    predictions = model.predict(sentences, len(sentences))\n",
    "\n",
    "    print('Sample 1:')\n",
    "    print(' '.join([y_id_to_word[np.argmax(x)] for x in predictions[0]]))\n",
    "    print('Il a vu un vieux camion jaune')\n",
    "    print('Sample 2:')\n",
    "    print(' '.join([y_id_to_word[np.argmax(x)] for x in predictions[1]]))\n",
    "    print(' '.join([y_id_to_word[np.max(x)] for x in y[0]]))\n",
    "\n",
    "\n",
    "final_predictions(preproc_english_sentences, preproc_french_sentences, english_tokenizer, french_tokenizer)"
   ]
  },
  {
   "cell_type": "markdown",
   "metadata": {},
   "source": [
    "## Submission\n",
    "When you're ready to submit, complete the following steps:\n",
    "1. Review the [rubric](https://review.udacity.com/#!/rubrics/1004/view) to ensure your submission meets all requirements to pass\n",
    "2. Generate an HTML version of this notebook\n",
    "\n",
    "  - Run the next cell to attempt automatic generation (this is the recommended method in Workspaces)\n",
    "  - Navigate to **FILE -> Download as -> HTML (.html)**\n",
    "  - Manually generate a copy using `nbconvert` from your shell terminal\n",
    "```\n",
    "$ pip install nbconvert\n",
    "$ python -m nbconvert machine_translation.ipynb\n",
    "```\n",
    "  \n",
    "3. Submit the project\n",
    "\n",
    "  - If you are in a Workspace, simply click the \"Submit Project\" button (bottom towards the right)\n",
    "  \n",
    "  - Otherwise, add the following files into a zip archive and submit them \n",
    "  - `helper.py`\n",
    "  - `machine_translation.ipynb`\n",
    "  - `machine_translation.html`\n",
    "    - You can export the notebook by navigating to **File -> Download as -> HTML (.html)**."
   ]
  },
  {
   "cell_type": "markdown",
   "metadata": {},
   "source": [
    "### Generate the html\n",
    "\n",
    "**Save your notebook before running the next cell to generate the HTML output.** Then submit your project."
   ]
  },
  {
   "cell_type": "code",
   "execution_count": 27,
   "metadata": {},
   "outputs": [
    {
     "data": {
      "text/plain": [
       "['[NbConvertApp] Converting notebook machine_translation.ipynb to html',\n",
       " '[NbConvertApp] Writing 388396 bytes to machine_translation.html',\n",
       " '[NbConvertApp] Converting notebook machine_translation-zh.ipynb to html',\n",
       " '[NbConvertApp] Writing 328614 bytes to machine_translation-zh.html']"
      ]
     },
     "execution_count": 27,
     "metadata": {},
     "output_type": "execute_result"
    }
   ],
   "source": [
    "# Save before you run this cell!\n",
    "!!jupyter nbconvert *.ipynb"
   ]
  },
  {
   "cell_type": "code",
   "execution_count": 28,
   "metadata": {},
   "outputs": [
    {
     "name": "stdout",
     "output_type": "stream",
     "text": [
      "rm: cannot remove 'PROJECT_2_MACHINE_TRANSLATION.ZIP': No such file or directory\r\n"
     ]
    }
   ],
   "source": [
    "!rm PROJECT_2_MACHINE_TRANSLATION.ZIP"
   ]
  },
  {
   "cell_type": "code",
   "execution_count": 29,
   "metadata": {},
   "outputs": [
    {
     "name": "stdout",
     "output_type": "stream",
     "text": [
      "  adding: helper.py (deflated 32%)\r\n",
      "  adding: machine_translation.ipynb (deflated 83%)\r\n",
      "  adding: machine_translation.html (deflated 85%)\r\n"
     ]
    }
   ],
   "source": [
    "!zip PROJECT_2_MACHINE_TRANSLATION.ZIP helper.py machine_translation.ipynb machine_translation.html"
   ]
  },
  {
   "cell_type": "markdown",
   "metadata": {},
   "source": [
    "## Optional Enhancements\n",
    "\n",
    "This project focuses on learning various network architectures for machine translation, but we don't evaluate the models according to best practices by splitting the data into separate test & training sets -- so the model accuracy is overstated. Use the [`sklearn.model_selection.train_test_split()`](http://scikit-learn.org/stable/modules/generated/sklearn.model_selection.train_test_split.html) function to create separate training & test datasets, then retrain each of the models using only the training set and evaluate the prediction accuracy using the hold out test set. Does the \"best\" model change?"
   ]
  }
 ],
 "metadata": {
  "kernelspec": {
   "display_name": "Python 3",
   "language": "python",
   "name": "python3"
  },
  "language_info": {
   "codemirror_mode": {
    "name": "ipython",
    "version": 3
   },
   "file_extension": ".py",
   "mimetype": "text/x-python",
   "name": "python",
   "nbconvert_exporter": "python",
   "pygments_lexer": "ipython3",
   "version": "3.6.3"
  }
 },
 "nbformat": 4,
 "nbformat_minor": 1
}
